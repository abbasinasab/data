{
 "cells": [
  {
   "cell_type": "code",
   "execution_count": 1,
   "metadata": {},
   "outputs": [],
   "source": [
    "import numpy as np\n",
    "import pandas as pd\n",
    "\n",
    "import matplotlib.pyplot as plt\n",
    "import matplotlib.patches as patches\n",
    "import matplotlib.path as path\n",
    "import matplotlib.animation as animation\n",
    "from functools import reduce"
   ]
  },
  {
   "cell_type": "code",
   "execution_count": 3,
   "metadata": {},
   "outputs": [],
   "source": [
    "events = pd.read_csv(\"timeseries_events.csv\")\n",
    "users  = pd.read_csv(\"timeseries_users.csv\")\n",
    "events = events.drop_duplicates() #many duplocates! idk if it was intentionally (to have same event for a user) or not I removed them, simply comment\n",
    "users  = users.drop_duplicates()\n",
    "\n",
    "#P1 from the last part I don't need to this again.... obviously\n",
    "df_events_users = pd.merge(events, users, how ='left', on=['user_id']) \n",
    "df_events_users.dropna(inplace=True)\n",
    "df_events_users = df_events_users[(df_events_users[\"age\"] >= 30) & (df_events_users[\"gender\"] == 'm')].reset_index()\n"
   ]
  },
  {
   "cell_type": "code",
   "execution_count": 4,
   "metadata": {},
   "outputs": [],
   "source": [
    "df_events_users_interevent_intervals=df_events_users.copy()\n",
    "df_events_users_interevent_intervals['event_date_casted'] = df_events_users_interevent_intervals['event_date'].astype('datetime64[ns]')\n",
    "df_events_users_interevent_intervals=df_events_users_interevent_intervals.sort_values(['user_id','event_date_casted'])\n",
    "df_events_users_interevent_intervals_o = df_events_users_interevent_intervals[['user_id','event_date']]\n",
    "df_events_users_interevent_intervals = df_events_users_interevent_intervals[['user_id','event_date_casted']]\n",
    "\n",
    "df_events_users_interevent_intervals_diff=df_events_users_interevent_intervals.diff()\n",
    "df_events_users_interevent_intervals_diff.rename(columns = {'user_id':'user_id_diff'}, inplace = True)\n",
    "df_events_users_interevent_intervals_diff.rename(columns = {'event_date_casted':'inter_events'}, inplace = True)\n",
    "df_events_users_interevent_intervals = pd.concat([df_events_users_interevent_intervals_o,df_events_users_interevent_intervals_diff], axis=1)\n",
    "df_events_users_interevent_intervals.dropna(inplace=True)\n",
    "df_events_users_interevent_intervals=df_events_users_interevent_intervals[df_events_users_interevent_intervals.user_id_diff==0.0]\n",
    "\n",
    "\n"
   ]
  },
  {
   "cell_type": "code",
   "execution_count": 13,
   "metadata": {},
   "outputs": [
    {
     "data": {
      "text/plain": [
       "Text(0, 0.5, 'Average Inter Event')"
      ]
     },
     "execution_count": 13,
     "metadata": {},
     "output_type": "execute_result"
    },
    {
     "data": {
      "image/png": "[encoded data removed]",
      "text/plain": [
       "<Figure size 432x288 with 1 Axes>"
      ]
     },
     "metadata": {
      "needs_background": "light"
     },
     "output_type": "display_data"
    }
   ],
   "source": [
    "#average of inter-event duration for each event (start time)\n",
    "df_avg_interevent_intervals_event = df_events_users_interevent_intervals.copy()\n",
    "df_avg_interevent_intervals_event['inter_events'] = (df_avg_interevent_intervals_event['inter_events']).dt.days\n",
    "\n",
    "df_avg_interevent_intervals_event.groupby('event_date')['inter_events'].mean().plot.bar()\n",
    "plt.xticks([],)\n",
    "plt.xlabel('Events [Chronological order]')\n",
    "plt.ylabel('Average Inter Event')"
   ]
  },
  {
   "cell_type": "code",
   "execution_count": 14,
   "metadata": {},
   "outputs": [
    {
     "data": {
      "text/plain": [
       "Text(27.0, 0.5, 'Average Inter Events')"
      ]
     },
     "execution_count": 14,
     "metadata": {},
     "output_type": "execute_result"
    },
    {
     "data": {
      "image/png": "[encoded data removed]",
      "text/plain": [
       "<Figure size 432x288 with 1 Axes>"
      ]
     },
     "metadata": {
      "needs_background": "light"
     },
     "output_type": "display_data"
    }
   ],
   "source": [
    "#average of inter-event duration for each bin-event (start time)\n",
    "#temp\n",
    "df_avg_interevent_intervals_event['inter_events_avg'] = df_avg_interevent_intervals_event.groupby('event_date')['inter_events'].transform(np.mean)\n",
    "df_avg_interevent_intervals_event = df_avg_interevent_intervals_event[['event_date','inter_events_avg']]\n",
    "df_avg_interevent_intervals_event.drop_duplicates()\n",
    "#temp\n",
    "bins_dt = pd.date_range('2014-01-01', freq='1M', periods=20) #bins\n",
    "bins_str = bins_dt.astype(str).values\n",
    "labels = ['({}, {}]'.format(bins_str[i-1], bins_str[i]) for i in range(1, len(bins_str))]\n",
    "df_avg_interevent_intervals_event['event_date'] = df_avg_interevent_intervals_event['event_date'].astype('datetime64[ns]')\n",
    "df_avg_interevent_intervals_event['event_date_range'] = pd.cut(df_avg_interevent_intervals_event.event_date.astype(np.int64)//10**9,bins=bins_dt.astype(np.int64)//10**9,labels=labels)\n",
    "df_avg_interevent_intervals_event['event_date_range_inter_events_avg'] = df_avg_interevent_intervals_event.groupby('event_date_range')['inter_events_avg'].transform(np.mean) # Adds new column for count of events\n",
    "df_avg_interevent_intervals_event = df_avg_interevent_intervals_event[['event_date_range','event_date_range_inter_events_avg']]\n",
    "df_avg_interevent_intervals_event = df_avg_interevent_intervals_event.drop_duplicates()\n",
    "plt.bar(x=df_avg_interevent_intervals_event['event_date_range'], height=df_avg_interevent_intervals_event['event_date_range_inter_events_avg'])\n",
    "tick_labels = [labels[i][3:8] for i in range(0, len(labels))]\n",
    "plt.xticks(df_avg_interevent_intervals_event['event_date_range'], tick_labels, rotation='vertical')\n",
    "plt.tight_layout()\n",
    "plt.xlabel('Event date bin')\n",
    "#plt.ylabel('event_date_range_inter_events_avg')\n",
    "plt.ylabel('Average Inter Events')"
   ]
  },
  {
   "cell_type": "code",
   "execution_count": null,
   "metadata": {},
   "outputs": [],
   "source": []
  }
 ],
 "metadata": {
  "kernelspec": {
   "display_name": "Python 3",
   "language": "python",
   "name": "python3"
  },
  "language_info": {
   "codemirror_mode": {
    "name": "ipython",
    "version": 3
   },
   "file_extension": ".py",
   "mimetype": "text/x-python",
   "name": "python",
   "nbconvert_exporter": "python",
   "pygments_lexer": "ipython3",
   "version": "3.5.1"
  }
 },
 "nbformat": 4,
 "nbformat_minor": 2
}
